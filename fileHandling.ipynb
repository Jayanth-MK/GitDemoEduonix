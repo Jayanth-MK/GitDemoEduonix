{
 "cells": [
  {
   "cell_type": "code",
   "execution_count": 1,
   "id": "89d97abd",
   "metadata": {},
   "outputs": [],
   "source": [
    "fileptr = open(\"syllabus.txt\",\"r\")  "
   ]
  },
  {
   "cell_type": "code",
   "execution_count": 3,
   "id": "ee70cebe",
   "metadata": {},
   "outputs": [
    {
     "data": {
      "text/plain": [
       "'we implemeted hypothesis testing ttest, annova\\n\\nlabel encoding and one hot encoding\\npython implemntation\\n\\n\\n\\nfeature scalling\\n\\n\\nttest annova\\n\\nfrom sklearn.preprocessing import labelencoder\\n\\nfrom sklearn.preprocessing import stanadard scaller\\n\\nfeature scalling  --> it will standarize all the columns or variables into same unit\\n\\nstandard scaler --> standardization and min max scaler --> normilization\\n\\n\\n\\nz score --->    xi - mean / sd\\n\\nxi ---> indivisual value  - mean  / sd\\n\\n\\n\\nlogistic regression\\n\\n25,24,23,22,20,27,26       25 - 20/ 27 - 20  26\\n\\n25,24,23,-2,20,27,60  ---> this is wrong    26\\n\\n\\nx - -2 and max --> 60     25 - (-2)/ 60 -(-2)\\nx - xmin / xmax - xmin\\n\\nstandard scaler \\n\\ndescriptive stats\\nhypothesis testing\\nmissing values\\noutlier detection\\nfeature encodinfeatures and target\\nindependant data and dependant data\\n\\n\\nmanual selection\\nvif, multi colilienearity\\nfilter methods ---> statistics to select features\\nwrapper methods ---> forwared elimination, back ward elimination and recursive elimination\\ndimensionality reduction---> lda and pca \\nembeded method ---> lasso, ridge, random forwrest, ensemble bagging and boosting methods\\n\\n\\n\\nintroduction to machine learning\\n\\n\\n\\nwrapper methods\\n\\n\\nforward elimination \\n\\n\\n\\n\\n'"
      ]
     },
     "execution_count": 3,
     "metadata": {},
     "output_type": "execute_result"
    }
   ],
   "source": [
    "fileptr.read()"
   ]
  },
  {
   "cell_type": "code",
   "execution_count": 5,
   "id": "63756148",
   "metadata": {},
   "outputs": [],
   "source": [
    "fileptr.close()   "
   ]
  },
  {
   "cell_type": "code",
   "execution_count": 7,
   "id": "0599fca4",
   "metadata": {},
   "outputs": [
    {
     "name": "stdout",
     "output_type": "stream",
     "text": [
      "file is opened successfully\n"
     ]
    }
   ],
   "source": [
    "# opens the file file.txt in read mode    \n",
    "fileptr = open(\"syllabus.txt\",\"r\")    \n",
    "    \n",
    "if fileptr:    \n",
    "    print(\"file is opened successfully\")    \n",
    "    \n",
    "#closes the opened file    \n",
    "fileptr.close()  "
   ]
  },
  {
   "cell_type": "code",
   "execution_count": 10,
   "id": "e18deb5f",
   "metadata": {},
   "outputs": [],
   "source": [
    "try:  \n",
    "   fileptr = open(\"syllabus.txt\")  \n",
    "   # perform file operations  \n",
    "finally:  \n",
    "   fileptr.close()  "
   ]
  },
  {
   "cell_type": "code",
   "execution_count": 12,
   "id": "52a9aecb",
   "metadata": {},
   "outputs": [
    {
     "name": "stdout",
     "output_type": "stream",
     "text": [
      "we implemeted hypothesis testing ttest, annova\n",
      "\n",
      "label encoding and one hot encoding\n",
      "python implemntation\n",
      "\n",
      "\n",
      "\n",
      "feature scalling\n",
      "\n",
      "\n",
      "ttest annova\n",
      "\n",
      "from sklearn.preprocessing import labelencoder\n",
      "\n",
      "from sklearn.preprocessing import stanadard scaller\n",
      "\n",
      "feature scalling  --> it will standarize all the columns or variables into same unit\n",
      "\n",
      "standard scaler --> standardization and min max scaler --> normilization\n",
      "\n",
      "\n",
      "\n",
      "z score --->    xi - mean / sd\n",
      "\n",
      "xi ---> indivisual value  - mean  / sd\n",
      "\n",
      "\n",
      "\n",
      "logistic regression\n",
      "\n",
      "25,24,23,22,20,27,26       25 - 20/ 27 - 20  26\n",
      "\n",
      "25,24,23,-2,20,27,60  ---> this is wrong    26\n",
      "\n",
      "\n",
      "x - -2 and max --> 60     25 - (-2)/ 60 -(-2)\n",
      "x - xmin / xmax - xmin\n",
      "\n",
      "standard scaler \n",
      "\n",
      "descriptive stats\n",
      "hypothesis testing\n",
      "missing values\n",
      "outlier detection\n",
      "feature encodinfeatures and target\n",
      "independant data and dependant data\n",
      "\n",
      "\n",
      "manual selection\n",
      "vif, multi colilienearity\n",
      "filter methods ---> statistics to select features\n",
      "wrapper methods ---> forwared elimination, back ward elimination and recursive elimination\n",
      "dimensionality reduction---> lda and pca \n",
      "embeded method ---> lasso, ridge, random forwrest, ensemble bagging and boosting methods\n",
      "\n",
      "\n",
      "\n",
      "introduction to machine learning\n",
      "\n",
      "\n",
      "\n",
      "wrapper methods\n",
      "\n",
      "\n",
      "forward elimination \n",
      "\n",
      "\n",
      "\n",
      "\n",
      "\n"
     ]
    }
   ],
   "source": [
    "with open(\"syllabus.txt\",'r') as f:    \n",
    "    content = f.read();    \n",
    "    print(content) "
   ]
  },
  {
   "cell_type": "code",
   "execution_count": 14,
   "id": "fb5abde9",
   "metadata": {},
   "outputs": [],
   "source": [
    "# open the file.txt in append mode. Create a new file if no such file exists.  \n",
    "fileptr = open(\"file2.txt\", \"w\")  \n",
    "  \n",
    "# appending the content to the file  \n",
    "fileptr.write('''''Python is the modern day language. It makes things so simple. \n",
    "It is the fastest-growing programing language''')  \n",
    "  \n",
    "# closing the opened the file  \n",
    "fileptr.close()  "
   ]
  },
  {
   "cell_type": "code",
   "execution_count": 15,
   "id": "32587453",
   "metadata": {},
   "outputs": [
    {
     "data": {
      "text/plain": [
       "\"''Python is the modern day language. It makes things so simple. \\nIt is the fastest-growing programing language\""
      ]
     },
     "execution_count": 15,
     "metadata": {},
     "output_type": "execute_result"
    }
   ],
   "source": [
    "fileptr = open(\"file2.txt\", \"r\")  \n",
    "fileptr.read()"
   ]
  },
  {
   "cell_type": "code",
   "execution_count": 16,
   "id": "9a2f48ef",
   "metadata": {},
   "outputs": [],
   "source": [
    "# open the file.txt in append mode. Create a new file if no such file exists.  \n",
    "fileptr = open(\"file2.txt\", \"w\")  \n",
    "  \n",
    "# appending the content to the file  \n",
    "fileptr.write('''''i love ydp''')  \n",
    "  \n",
    "# closing the opened the file  \n",
    "fileptr.close()  "
   ]
  },
  {
   "cell_type": "code",
   "execution_count": 17,
   "id": "3eb267bc",
   "metadata": {},
   "outputs": [
    {
     "data": {
      "text/plain": [
       "\"''i love ydp\""
      ]
     },
     "execution_count": 17,
     "metadata": {},
     "output_type": "execute_result"
    }
   ],
   "source": [
    "fileptr = open(\"file2.txt\", \"r\")  \n",
    "fileptr.read()"
   ]
  },
  {
   "cell_type": "code",
   "execution_count": 18,
   "id": "d31b3a2a",
   "metadata": {},
   "outputs": [],
   "source": [
    "# open the file.txt in append mode. Create a new file if no such file exists.  \n",
    "fileptr = open(\"file2.txt\", \"a\")  \n",
    "  \n",
    "# appending the content to the file  \n",
    "fileptr.write('''''i love ydp, no idea why''')  \n",
    "  \n",
    "# closing the opened the file  \n",
    "fileptr.close()  "
   ]
  },
  {
   "cell_type": "code",
   "execution_count": 19,
   "id": "09c56195",
   "metadata": {},
   "outputs": [
    {
     "data": {
      "text/plain": [
       "\"''i love ydp''i love ydp, no idea why\""
      ]
     },
     "execution_count": 19,
     "metadata": {},
     "output_type": "execute_result"
    }
   ],
   "source": [
    "fileptr = open(\"file2.txt\", \"r\")  \n",
    "fileptr.read()"
   ]
  },
  {
   "cell_type": "code",
   "execution_count": null,
   "id": "1e011aeb",
   "metadata": {},
   "outputs": [],
   "source": []
  },
  {
   "cell_type": "code",
   "execution_count": 20,
   "id": "c51d22ba",
   "metadata": {},
   "outputs": [
    {
     "name": "stdout",
     "output_type": "stream",
     "text": [
      "''i love ydp''i love ydp, no idea why\n"
     ]
    }
   ],
   "source": [
    "#open the file.txt in read mode. causes an error if no such file exists.    \n",
    "fileptr = open(\"file2.txt\",\"r\");     \n",
    "#running a for loop     \n",
    "for i in fileptr:    \n",
    "    print(i) # i contains each line of the file     "
   ]
  },
  {
   "cell_type": "code",
   "execution_count": 23,
   "id": "8f9a39ec",
   "metadata": {},
   "outputs": [
    {
     "name": "stdout",
     "output_type": "stream",
     "text": [
      "New text file created successfully!\n"
     ]
    }
   ],
   "source": [
    "myLines = [\"Hi ItSolutionstuff.com!\", \"This is body\", \"Thank you\"]\n",
    "  \n",
    "# create a new text file with multi lines code\n",
    "with open('readme.txt', 'w') as f:\n",
    "    for line in myLines:\n",
    "        f.write(line)\n",
    "        f.write('\\n')\n",
    "  \n",
    "print(\"New text file created successfully!\")"
   ]
  },
  {
   "cell_type": "code",
   "execution_count": 24,
   "id": "bc5436d1",
   "metadata": {},
   "outputs": [
    {
     "name": "stdout",
     "output_type": "stream",
     "text": [
      "Hi ItSolutionstuff.com!\n",
      "\n",
      "This is body\n",
      "\n",
      "Thank you\n",
      "\n"
     ]
    }
   ],
   "source": [
    "#open the file.txt in read mode. causes an error if no such file exists.    \n",
    "fileptr = open(\"readme.txt\",\"r\");     \n",
    "#running a for loop     \n",
    "for i in fileptr:    \n",
    "    print(i) # i contains each line of the file     "
   ]
  },
  {
   "cell_type": "code",
   "execution_count": 21,
   "id": "59bfcb15",
   "metadata": {},
   "outputs": [],
   "source": [
    "with open(\"file.txt\", \"w\") as file:\n",
    "   lines = [\"Welcome to TutorialsPoint\\n\", \"Write multiple lines \\n\", \"Done successfully\\n\" ]\n",
    "   file.writelines(lines)\n",
    "   file.close()"
   ]
  },
  {
   "cell_type": "code",
   "execution_count": 22,
   "id": "84e6f05e",
   "metadata": {},
   "outputs": [],
   "source": [
    "variable=10\n",
    "f=open(\"fileName.txt\",\"w+\") # file name and mode\n",
    "for x in range(0,10):\n",
    "    f.writelines('your text')\n",
    "    f.writelines('if you want to add variable data'+str(variable))\n",
    "    # to add data you only add String data so you want to type cast variable  \n",
    "    f.writelines(\"\\n\")"
   ]
  },
  {
   "cell_type": "code",
   "execution_count": null,
   "id": "ad28e183",
   "metadata": {},
   "outputs": [],
   "source": []
  }
 ],
 "metadata": {
  "kernelspec": {
   "display_name": "Python 3 (ipykernel)",
   "language": "python",
   "name": "python3"
  },
  "language_info": {
   "codemirror_mode": {
    "name": "ipython",
    "version": 3
   },
   "file_extension": ".py",
   "mimetype": "text/x-python",
   "name": "python",
   "nbconvert_exporter": "python",
   "pygments_lexer": "ipython3",
   "version": "3.8.1"
  }
 },
 "nbformat": 4,
 "nbformat_minor": 5
}
